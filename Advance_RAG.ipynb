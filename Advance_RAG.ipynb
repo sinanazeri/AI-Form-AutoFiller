{
  "cells": [
    {
      "cell_type": "markdown",
      "metadata": {
        "id": "view-in-github",
        "colab_type": "text"
      },
      "source": [
        "<a href=\"https://colab.research.google.com/github/sinanazeri/AI-Form-AutoFiller/blob/main/Advance_RAG.ipynb\" target=\"_parent\"><img src=\"https://colab.research.google.com/assets/colab-badge.svg\" alt=\"Open In Colab\"/></a>"
      ]
    },
    {
      "cell_type": "markdown",
      "source": [
        "# Advance RAG methods\n",
        "reference: https://www.youtube.com/watch?v=KQjZ68mToWo&ab_channel=CodingCrashcourses"
      ],
      "metadata": {
        "id": "6HhiVnTCVr-S"
      }
    },
    {
      "cell_type": "code",
      "source": [
        "#!pip install langchain==0.0.332 gradio==3.39.0 transformers==4.31.0 torch==2.0.1 tiktoken==0.4.0 pypdf==3.15.0 InstructorEmbedding==1.0.1 chromadb==0.4.5 sentence_transformers==2.2.2 ibm-watson-machine-learning==1.0.339 -qqq"
      ],
      "metadata": {
        "id": "BTOuxJpPkkEI"
      },
      "execution_count": 55,
      "outputs": []
    },
    {
      "cell_type": "code",
      "source": [
        "!pip install transformers==4.22.2  sentence-transformers==2.2.2 langchain torch tiktoken pypdf InstructorEmbedding chromadb ibm_watson_machine_learning -qqq"
      ],
      "metadata": {
        "id": "OfphEEKppPYl",
        "colab": {
          "base_uri": "https://localhost:8080/"
        },
        "outputId": "fafc3972-a1d1-44df-fb11-c8828939cd3c"
      },
      "execution_count": 37,
      "outputs": [
        {
          "output_type": "stream",
          "name": "stdout",
          "text": [
            "\u001b[2K     \u001b[90m━━━━━━━━━━━━━━━━━━━━━━━━━━━━━━━━━━━━━━━━\u001b[0m \u001b[32m1.5/1.5 MB\u001b[0m \u001b[31m9.3 MB/s\u001b[0m eta \u001b[36m0:00:00\u001b[0m\n",
            "\u001b[2K     \u001b[90m━━━━━━━━━━━━━━━━━━━━━━━━━━━━━━━━━━━━━━━━\u001b[0m \u001b[32m56.6/56.6 kB\u001b[0m \u001b[31m6.5 MB/s\u001b[0m eta \u001b[36m0:00:00\u001b[0m\n",
            "\u001b[?25h  Preparing metadata (setup.py) ... \u001b[?25l\u001b[?25hdone\n",
            "\u001b[2K     \u001b[90m━━━━━━━━━━━━━━━━━━━━━━━━━━━━━━━━━━━━━━━━\u001b[0m \u001b[32m1.1/1.1 MB\u001b[0m \u001b[31m14.6 MB/s\u001b[0m eta \u001b[36m0:00:00\u001b[0m\n",
            "\u001b[?25h  Preparing metadata (setup.py) ... \u001b[?25l\u001b[?25hdone\n",
            "\u001b[2K     \u001b[90m━━━━━━━━━━━━━━━━━━━━━━━━━━━━━━━━━━━━━━━━\u001b[0m \u001b[32m139.0/139.0 kB\u001b[0m \u001b[31m15.8 MB/s\u001b[0m eta \u001b[36m0:00:00\u001b[0m\n",
            "\u001b[?25h  Preparing metadata (setup.py) ... \u001b[?25l\u001b[?25hdone\n",
            "\u001b[2K     \u001b[90m━━━━━━━━━━━━━━━━━━━━━━━━━━━━━━━━━━━━━━━━\u001b[0m \u001b[32m143.8/143.8 kB\u001b[0m \u001b[31m15.2 MB/s\u001b[0m eta \u001b[36m0:00:00\u001b[0m\n",
            "\u001b[?25h  Building wheel for ibm-cos-sdk (setup.py) ... \u001b[?25l\u001b[?25hdone\n",
            "  Building wheel for ibm-cos-sdk-core (setup.py) ... \u001b[?25l\u001b[?25hdone\n",
            "  Building wheel for ibm-cos-sdk-s3transfer (setup.py) ... \u001b[?25l\u001b[?25hdone\n"
          ]
        }
      ]
    },
    {
      "cell_type": "code",
      "source": [
        "import torch\n",
        "from langchain.embeddings import HuggingFaceInstructEmbeddings\n",
        "\n",
        "DEVICE = \"cuda:0\" if torch.cuda.is_available() else \"cpu\"\n",
        "\n",
        "#loader = PyPDFDirectoryLoader(\"aircraft_pdfs\")\n",
        "#docs = loader.load()\n",
        "#print(len(docs))  # length of all pages together\n",
        "\n",
        "embedding = HuggingFaceInstructEmbeddings(model_name=\"sentence-transformers/all-MiniLM-L6-v2\", model_kwargs={\"device\": DEVICE})\n",
        "\n",
        "#text_splitter = RecursiveCharacterTextSplitter(chunk_size = 1024, chunk_overlap = 64)\n",
        "#texts = text_splitter.split_documents(docs)\n",
        "#print(len(texts))\n",
        "\n",
        "#db = Chroma.from_documents(texts, embedding=embeddings, persist_directory=\"db\")\n",
        "\n",
        "#db = FAISS.from_documents(texts, embeddings)"
      ],
      "metadata": {
        "id": "2hJi7gEvkqh6",
        "outputId": "be167cf0-6e38-4cd2-97c2-b65f6890254c",
        "colab": {
          "base_uri": "https://localhost:8080/"
        }
      },
      "execution_count": 10,
      "outputs": [
        {
          "output_type": "stream",
          "name": "stdout",
          "text": [
            "load INSTRUCTOR_Transformer\n",
            "max_seq_length  512\n"
          ]
        }
      ]
    },
    {
      "cell_type": "code",
      "source": [
        "# prompt: read dogs.txt and restaurant.txt and print random parts in nice format\n",
        "\n",
        "import random\n",
        "\n",
        "def read_and_print_random(filename):\n",
        "  with open(filename, 'r') as f:\n",
        "    lines = f.readlines()\n",
        "    random_line = random.choice(lines)\n",
        "    print(f\"> {random_line}\")\n",
        "\n",
        "read_and_print_random(\"dogs.txt\")\n",
        "read_and_print_random(\"restaurant.txt\")\n",
        "\n",
        "def pretty_print_docs(docs):\n",
        "    print(f\"\\n{'-' * 100}\\n\".join([f\"Document {i+1}:\\n\" + d.page_content for i, d in enumerate(docs)]))"
      ],
      "metadata": {
        "id": "oFy2r84XmHwc",
        "outputId": "91ca16fe-88ea-4b0d-e113-3489ca1d408b",
        "colab": {
          "base_uri": "https://localhost:8080/"
        }
      },
      "execution_count": 32,
      "outputs": [
        {
          "output_type": "stream",
          "name": "stdout",
          "text": [
            "> Q4: Are there any special qualifications for the trainers at Canine Academy?\n",
            "\n",
            "> Q6: Are there any special dishes that are recommended at Gourmet's Delight?\n",
            "\n"
          ]
        }
      ]
    },
    {
      "cell_type": "code",
      "execution_count": 37,
      "metadata": {
        "id": "z3yiBRLQkh-B"
      },
      "outputs": [],
      "source": [
        "\n",
        "from langchain.text_splitter import RecursiveCharacterTextSplitter\n",
        "from langchain.vectorstores import Chroma\n",
        "\n",
        "from langchain.schema import Document\n",
        "\n",
        "# Load blog post\n",
        "from langchain.document_loaders import TextLoader\n",
        "\n",
        "loader = TextLoader(\"./dogs.txt\")\n",
        "data = loader.load()\n",
        "loader = TextLoader(\"./restaurant.txt\")\n",
        "data2 = loader.load()\n",
        "\n",
        "data = data + data2\n",
        "\n",
        "\n",
        "text_splitter = RecursiveCharacterTextSplitter(chunk_size=120, chunk_overlap=10)\n",
        "docs = text_splitter.split_documents(data)\n"
      ]
    },
    {
      "cell_type": "code",
      "execution_count": 38,
      "metadata": {
        "id": "wp9gEjOjkh-C",
        "colab": {
          "base_uri": "https://localhost:8080/"
        },
        "outputId": "6d8a4310-8cea-4e7f-dc65-7c65799b6ace"
      },
      "outputs": [
        {
          "output_type": "stream",
          "name": "stdout",
          "text": [
            "35\n"
          ]
        }
      ],
      "source": [
        "vector1 = embedding.embed_query(\"How is the whether??\")\n",
        "vector2 = embedding.embed_query(\"What is the Name of the Dogschool?\")\n",
        "vector3 = embedding.embed_query(\"What food do you offer?\")\n",
        "\n",
        "data_vectors = [embedding.embed_query(doc.page_content) for doc in docs]\n",
        "print(len(data_vectors))"
      ]
    },
    {
      "cell_type": "code",
      "execution_count": 39,
      "metadata": {
        "id": "UgVwN9pCkh-C",
        "colab": {
          "base_uri": "https://localhost:8080/",
          "height": 452
        },
        "outputId": "c16c4de6-5545-493d-fb8e-d7fc249fb76b"
      },
      "outputs": [
        {
          "output_type": "display_data",
          "data": {
            "text/plain": [
              "<Figure size 640x480 with 1 Axes>"
            ],
            "image/png": "[encoded data removed]"
          },
          "metadata": {}
        }
      ],
      "source": [
        "from sklearn.metrics.pairwise import cosine_similarity\n",
        "import matplotlib.pyplot as plt\n",
        "import numpy as np\n",
        "\n",
        "cosine_sims_1 = [cosine_similarity([vector1], [data_vector])[0][0] for data_vector in data_vectors]\n",
        "cosine_sims_2 = [cosine_similarity([vector2], [data_vector])[0][0] for data_vector in data_vectors]\n",
        "cosine_sims_3 = [cosine_similarity([vector3], [data_vector])[0][0] for data_vector in data_vectors]\n",
        "\n",
        "x = np.arange(len(data_vectors))\n",
        "\n",
        "plt.scatter(x, cosine_sims_1, label='Weather', alpha=0.7)\n",
        "plt.scatter(x, cosine_sims_2, label='Dogschool', alpha=0.7)\n",
        "plt.scatter(x, cosine_sims_3, label='Restaurant', alpha=0.7)\n",
        "\n",
        "plt.ylabel('Cosine Similarity')\n",
        "plt.title('Consine Similarity between query and data vectors')\n",
        "plt.legend()\n",
        "\n",
        "plt.show()"
      ]
    },
    {
      "cell_type": "code",
      "execution_count": 41,
      "metadata": {
        "id": "45uYo0nXkh-C",
        "colab": {
          "base_uri": "https://localhost:8080/"
        },
        "outputId": "7dcd20e8-479f-4a1d-d9c3-6e5e1bd19e88"
      },
      "outputs": [
        {
          "output_type": "stream",
          "name": "stderr",
          "text": [
            "WARNING:chromadb:Using embedded DuckDB without persistence: data will be transient\n",
            "WARNING:chromadb.api.models.Collection:No embedding_function provided, using default embedding function: SentenceTransformerEmbeddingFunction\n"
          ]
        }
      ],
      "source": [
        "# Parent document retrieval approach\n",
        "from langchain.storage import InMemoryStore\n",
        "from langchain.retrievers import ParentDocumentRetriever\n",
        "\n",
        "child_splitter = RecursiveCharacterTextSplitter(chunk_size=120, chunk_overlap=20)\n",
        "parent_splitter = RecursiveCharacterTextSplitter(chunk_size=400, chunk_overlap=20)\n",
        "vectorstore = Chroma(\n",
        "    collection_name=\"full_documents\", embedding_function=embedding\n",
        ")\n",
        "store = InMemoryStore()\n",
        "retriever = ParentDocumentRetriever(\n",
        "    vectorstore=vectorstore,\n",
        "    docstore=store,\n",
        "    child_splitter=child_splitter,\n",
        "    parent_splitter=parent_splitter\n",
        ")"
      ]
    },
    {
      "cell_type": "code",
      "execution_count": 42,
      "metadata": {
        "id": "gVlupUoekh-C"
      },
      "outputs": [],
      "source": [
        "retriever.add_documents(docs, ids=None)"
      ]
    },
    {
      "cell_type": "code",
      "execution_count": 43,
      "metadata": {
        "id": "iRNWzojWkh-C",
        "colab": {
          "base_uri": "https://localhost:8080/"
        },
        "outputId": "fab64aa3-3844-4f92-de2e-2665beb0a678"
      },
      "outputs": [
        {
          "output_type": "execute_result",
          "data": {
            "text/plain": [
              "[Document(page_content='A1: The school is called \"Canine Academy\".', metadata={'source': './dogs.txt', 'doc_id': '3f7d1f0c-404e-4dc2-9c99-5048f5d490f1'}),\n",
              " Document(page_content='Fiktive Hundeschule: Canine Academy\\nQ1: What is the name of the dog training school?', metadata={'source': './dogs.txt', 'doc_id': 'e65382ce-305b-410a-9fdf-c8f3d31ac977'}),\n",
              " Document(page_content='Q10: Does Canine Academy offer any support or follow-up after completion of a course?', metadata={'source': './dogs.txt', 'doc_id': 'a2b15f34-d983-464b-8d2b-3a07eb3d9d73'}),\n",
              " Document(page_content='Q3: What training programs are offered at Canine Academy?', metadata={'source': './dogs.txt', 'doc_id': 'c5fecadc-02e5-4b30-8eb3-ad8bb2ecd08a'})]"
            ]
          },
          "metadata": {},
          "execution_count": 43
        }
      ],
      "source": [
        "vectorstore.similarity_search(\"What is the name of the dog school?\")"
      ]
    },
    {
      "cell_type": "code",
      "execution_count": 44,
      "metadata": {
        "id": "aZ3zLZBKkh-C",
        "colab": {
          "base_uri": "https://localhost:8080/"
        },
        "outputId": "f4f855a1-a72c-4190-a05a-764449b22cef"
      },
      "outputs": [
        {
          "output_type": "execute_result",
          "data": {
            "text/plain": [
              "[Document(page_content='A1: The school is called \"Canine Academy\".', metadata={'source': './dogs.txt'}),\n",
              " Document(page_content='Fiktive Hundeschule: Canine Academy\\nQ1: What is the name of the dog training school?', metadata={'source': './dogs.txt'}),\n",
              " Document(page_content='Q10: Does Canine Academy offer any support or follow-up after completion of a course?', metadata={'source': './dogs.txt'}),\n",
              " Document(page_content='Q3: What training programs are offered at Canine Academy?', metadata={'source': './dogs.txt'})]"
            ]
          },
          "metadata": {},
          "execution_count": 44
        }
      ],
      "source": [
        "retriever.get_relevant_documents(\"What is the name of the dog school?\")"
      ]
    },
    {
      "cell_type": "markdown",
      "metadata": {
        "id": "OBFzwuupkh-C"
      },
      "source": [
        "### MultiQueryRetriever\n",
        "\n",
        "Nuances in the question can lead to different results if the question does not capture the embeddings semantically well.\n",
        "MultiQueryRetriever creates variations of the question and thus goes against the database"
      ]
    },
    {
      "cell_type": "code",
      "source": [
        "from ibm_watson_machine_learning.foundation_models.extensions.langchain import WatsonxLLM\n",
        "from ibm_watson_machine_learning.foundation_models.utils.enums import DecodingMethods\n",
        "from ibm_watson_machine_learning.metanames import GenTextParamsMetaNames as GenParams\n",
        "from ibm_watson_machine_learning.foundation_models import Model\n",
        "\n",
        "Watsonx_API = \"\"\n",
        "Project_id= \"\"\n",
        "\n",
        "params = {\n",
        "        GenParams.MAX_NEW_TOKENS: 400, # The maximum number of tokens that the model can generate in a single run.\n",
        "        GenParams.MIN_NEW_TOKENS: 1,   # The minimum number of tokens that the model should generate in a single run.\n",
        "        GenParams.DECODING_METHOD: DecodingMethods.SAMPLE, # The method used by the model for decoding/generating new tokens. In this case, it uses the sampling method.\n",
        "        GenParams.TEMPERATURE: 0.1,   # A parameter that controls the randomness of the token generation. A lower value makes the generation more deterministic, while a higher value introduces more randomness.\n",
        "        GenParams.TOP_K: 50,          # The top K parameter restricts the token generation to the K most likely tokens at each step, which can help to focus the generation and avoid irrelevant tokens.\n",
        "        GenParams.TOP_P: 1            # The top P parameter, also known as nucleus sampling, restricts the token generation to a subset of tokens that have a cumulative probability of at most P, helping to balance between diversity and quality of the generated text.\n",
        "    }\n",
        "credentials = {\n",
        "        'url': \"https://us-south.ml.cloud.ibm.com\",\n",
        "        'apikey' : Watsonx_API\n",
        "    }\n",
        "\n",
        "LLAMA2_model = Model(\n",
        "        model_id= 'meta-llama/llama-2-70b-chat', # or use --> ModelTypes.LLAMA_2_70B_CHAT,\n",
        "        credentials=credentials,\n",
        "        params=params,\n",
        "        project_id=Project_id)\n",
        "\n",
        "llm = WatsonxLLM(model=LLAMA2_model)\n",
        "\n",
        "print(llm(\"How to read a book effectively?\"))"
      ],
      "metadata": {
        "colab": {
          "base_uri": "https://localhost:8080/"
        },
        "id": "7k_KXn5kGv5Q",
        "outputId": "aaf7677a-edbc-41ee-d03c-90f6a48fdfd1"
      },
      "execution_count": 48,
      "outputs": [
        {
          "output_type": "stream",
          "name": "stdout",
          "text": [
            "\n",
            "\n",
            "Reading is one of the most efficient ways to gain knowledge and expand your mind. However, not everyone knows how to read effectively. Here are some tips to help you read a book effectively:\n",
            "\n",
            "1. Set goals: Before you start reading, set a goal for what you want to achieve. Do you want to gain knowledge, relax, or improve your reading skills? Having a clear goal in mind will help you stay focused and motivated.\n",
            "2. Choose the right book: Choose a book that aligns with your goals and interests. Don't waste your time reading a book that doesn't resonate with you.\n",
            "3. Create a reading schedule: Set aside a specific time each day or week to read. Consistency is key to developing a reading habit.\n",
            "4. Eliminate distractions: Find a quiet and comfortable place to read where you can focus. Turn off your phone, TV, and other distractions.\n",
            "5. Take notes: Taking notes helps you engage with the material and retain information better. Write down key points, questions, and insights that come to mind.\n",
            "6. Summarize the book: After you finish reading, summarize the book in your own words. This will help you retain the information and understand the main ideas better.\n",
            "7. Reflect on what you've read: Reflect on what you've read and how it relates to your life, goals, and interests. This will help you apply what you've learned and make connections between different ideas.\n",
            "8. Discuss with others: Discuss the book with others to gain different perspectives and insights. This will help you deepen your understanding of the material and develop your critical thinking skills.\n",
            "9. Review regularly: Review what you've read regularly to reinforce your learning. This can be done by re-reading your notes, summarizing the book\n"
          ]
        }
      ]
    },
    {
      "cell_type": "code",
      "execution_count": 19,
      "metadata": {
        "id": "-kJ-pwjfkh-D"
      },
      "outputs": [],
      "source": [
        "#from langchain.chat_models import ChatOpenAI\n",
        "from langchain.retrievers.multi_query import MultiQueryRetriever\n",
        "\n",
        "\n",
        "retriever = MultiQueryRetriever.from_llm(\n",
        "    retriever=vectorstore.as_retriever(), llm=llm\n",
        ")"
      ]
    },
    {
      "cell_type": "code",
      "execution_count": 20,
      "metadata": {
        "id": "eW4jSi72kh-D",
        "colab": {
          "base_uri": "https://localhost:8080/"
        },
        "outputId": "1a1c73e7-d714-44e9-8f78-381dd2353fe5"
      },
      "outputs": [
        {
          "output_type": "execute_result",
          "data": {
            "text/plain": [
              "17"
            ]
          },
          "metadata": {},
          "execution_count": 20
        }
      ],
      "source": [
        "unique_docs = retriever.get_relevant_documents(\"What is the name of the dog school?\")\n",
        "len(unique_docs)"
      ]
    },
    {
      "cell_type": "code",
      "execution_count": 49,
      "metadata": {
        "id": "UxRBjKmJkh-D"
      },
      "outputs": [],
      "source": [
        "from typing import List\n",
        "\n",
        "from langchain.chains import LLMChain\n",
        "from langchain.output_parsers import PydanticOutputParser\n",
        "from langchain.prompts import PromptTemplate\n",
        "from pydantic import BaseModel, Field\n",
        "\n",
        "\n",
        "class LineList(BaseModel):\n",
        "    lines: List[str] = Field(description=\"Lines of text\")\n",
        "\n",
        "\n",
        "class LineListOutputParser(PydanticOutputParser):\n",
        "    def __init__(self) -> None:\n",
        "        super().__init__(pydantic_object=LineList)\n",
        "\n",
        "    def parse(self, text: str) -> LineList:\n",
        "        lines = text.strip().split(\"\\n\")\n",
        "        return LineList(lines=lines)\n",
        "\n",
        "\n",
        "output_parser = LineListOutputParser()\n",
        "\n",
        "QUERY_PROMPT = PromptTemplate(\n",
        "    input_variables=[\"question\"],\n",
        "    template=\"\"\"You are an AI language model assistant. Your task is to generate five\n",
        "    different versions of the given user question to retrieve relevant documents from a vector\n",
        "    database. By generating multiple perspectives on the user question, your goal is to help\n",
        "    the user overcome some of the limitations of the distance-based similarity search.\n",
        "    Provide these alternative questions separated by newlines.\n",
        "    Original question: {question}\"\"\",\n",
        ")\n",
        "\n",
        "llm_chain = LLMChain(llm=llm, prompt=QUERY_PROMPT, output_parser=output_parser)"
      ]
    },
    {
      "cell_type": "code",
      "execution_count": 51,
      "metadata": {
        "id": "JAY5_LRHkh-D",
        "colab": {
          "base_uri": "https://localhost:8080/"
        },
        "outputId": "0b7c186c-d455-438b-ff9c-1618a777a3f8"
      },
      "outputs": [
        {
          "output_type": "execute_result",
          "data": {
            "text/plain": [
              "{'question': 'What is the name of the dog school?',\n",
              " 'text': LineList(lines=['Here are five alternative versions of the user question:', '', '1. Can you name a school that specializes in training dogs?', '2. What is the name of the institution that offers dog training programs?', '3. Where can I find a school that teaches dogs obedience and agility skills?', '4. Is there a school that focuses on educating dogs in basic commands and behavior?', '5. Can you recommend a reputable dog training facility in the area?', '', 'These alternative questions provide different perspectives on the original question and can help retrieve relevant documents from a vector database. By generating multiple versions of the user question, the AI language model assistant can help the user overcome some of the limitations of distance-based similarity search and find relevant information more effectively.'])}"
            ]
          },
          "metadata": {},
          "execution_count": 51
        }
      ],
      "source": [
        "llm_chain.invoke(\"What is the name of the dog school?\")"
      ]
    },
    {
      "cell_type": "code",
      "execution_count": 52,
      "metadata": {
        "id": "kIcsF2jjkh-D"
      },
      "outputs": [],
      "source": [
        "# let store the question before going to the next stage\n",
        "question = \"What is the name of the dog school?\"\n"
      ]
    },
    {
      "cell_type": "markdown",
      "metadata": {
        "id": "PBy-UyxZkh-D"
      },
      "source": [
        "### Contextual Compression\n",
        "\n",
        "To use the Contextual Compression Retriever, you need:\n",
        "\n",
        "    a basic retriever\n",
        "    a document compressor\n",
        "\n",
        "The Contextual Compression Retriever passes queries to the Base Retriever, takes the source documents and forwards them to the Document Compressor. The document compressor takes a list of documents and shortens them by reducing the content of documents or omitting documents altogether."
      ]
    },
    {
      "cell_type": "code",
      "execution_count": 53,
      "metadata": {
        "id": "gfUEqdTakh-D",
        "colab": {
          "base_uri": "https://localhost:8080/"
        },
        "outputId": "6c27b210-244e-4842-8328-ed76ec28d91e"
      },
      "outputs": [
        {
          "output_type": "stream",
          "name": "stderr",
          "text": [
            "WARNING:chromadb:Using embedded DuckDB without persistence: data will be transient\n",
            "WARNING:chromadb.api.models.Collection:No embedding_function provided, using default embedding function: SentenceTransformerEmbeddingFunction\n"
          ]
        }
      ],
      "source": [
        "vectorstore = Chroma(\n",
        "    collection_name=\"full_documents\", embedding_function=embedding\n",
        ")\n",
        "vectorstore.add_documents(docs)\n",
        "retriever = vectorstore.as_retriever()"
      ]
    },
    {
      "cell_type": "code",
      "execution_count": 54,
      "metadata": {
        "id": "X7QA8i6skh-D",
        "colab": {
          "base_uri": "https://localhost:8080/"
        },
        "outputId": "32cb001f-ec50-4b9a-96e6-eac3adb8910d"
      },
      "outputs": [
        {
          "output_type": "execute_result",
          "data": {
            "text/plain": [
              "[Document(page_content='A1: The school is called \"Canine Academy\".', metadata={'source': './dogs.txt'}),\n",
              " Document(page_content='Fiktive Hundeschule: Canine Academy\\nQ1: What is the name of the dog training school?', metadata={'source': './dogs.txt'}),\n",
              " Document(page_content='Q10: Does Canine Academy offer any support or follow-up after completion of a course?', metadata={'source': './dogs.txt'}),\n",
              " Document(page_content='Q3: What training programs are offered at Canine Academy?', metadata={'source': './dogs.txt'})]"
            ]
          },
          "metadata": {},
          "execution_count": 54
        }
      ],
      "source": [
        "retriever.get_relevant_documents(query=question,k=1)"
      ]
    },
    {
      "cell_type": "code",
      "execution_count": 56,
      "metadata": {
        "id": "DW2rHZiQkh-D",
        "colab": {
          "base_uri": "https://localhost:8080/"
        },
        "outputId": "d79470ba-dd27-4980-d67e-6610b50a37fb"
      },
      "outputs": [
        {
          "output_type": "stream",
          "name": "stderr",
          "text": [
            "/usr/local/lib/python3.10/dist-packages/langchain/chains/llm.py:316: UserWarning: The predict_and_parse method is deprecated, instead pass an output parser directly to LLMChain.\n",
            "  warnings.warn(\n",
            "/usr/local/lib/python3.10/dist-packages/langchain/chains/llm.py:316: UserWarning: The predict_and_parse method is deprecated, instead pass an output parser directly to LLMChain.\n",
            "  warnings.warn(\n",
            "/usr/local/lib/python3.10/dist-packages/langchain/chains/llm.py:316: UserWarning: The predict_and_parse method is deprecated, instead pass an output parser directly to LLMChain.\n",
            "  warnings.warn(\n",
            "/usr/local/lib/python3.10/dist-packages/langchain/chains/llm.py:316: UserWarning: The predict_and_parse method is deprecated, instead pass an output parser directly to LLMChain.\n",
            "  warnings.warn(\n"
          ]
        },
        {
          "output_type": "stream",
          "name": "stdout",
          "text": [
            "Document 1:\n",
            "A1: The school is called \"Canine Academy\".\n",
            "\n",
            "Is this correct?\n",
            "\n",
            "Yes, that is correct! The relevant part of the context that answers the question is indeed A1: The school is called \"Canine Academy\". Well done!\n",
            "----------------------------------------------------------------------------------------------------\n",
            "Document 2:\n",
            "Fiktive Hundeschule: Canine Academy\n",
            "\n",
            "Please select one of the following options:\n",
            "\n",
            "A) Fiktive Hundeschule\n",
            "B) Canine Academy\n",
            "C) Both A and B\n",
            "D) None of the above\n",
            "\n",
            "Please select one of the following options:\n",
            "\n",
            "Please select one of the following options:\n",
            "\n",
            "Please select one of the following options:\n",
            "\n",
            "Please select one of the following options:\n",
            "\n",
            "Please select one of the following options:\n",
            "\n",
            "Please select one of the following options:\n",
            "\n",
            "Please select one of the following options:\n",
            "\n",
            "Please select one of the following options:\n",
            "\n",
            "Please select one of the following options:\n",
            "\n",
            "Please select one of the following options:\n",
            "\n",
            "Please select one of the following options:\n",
            "\n",
            "Please select one of the following options:\n",
            "\n",
            "Please select one of the following options:\n",
            "\n",
            "Please select one of the following options:\n",
            "\n",
            "Please select one of the following options:\n",
            "\n",
            "Please select one of the following options:\n",
            "\n",
            "Please select one of the following options:\n",
            "\n",
            "Please select one of the following options:\n",
            "\n",
            "Please select one of the following options:\n",
            "\n",
            "Please select one of the following options:\n",
            "\n",
            "Please select one of the following options:\n",
            "\n",
            "Please select one of the following options:\n",
            "\n",
            "Please select one of the following options:\n",
            "\n",
            "Please select one of the following options:\n",
            "\n",
            "Please select one of the following options:\n",
            "\n",
            "Please select one of the following options:\n",
            "\n",
            "Please select one of the following options:\n",
            "\n",
            "Please select one of the following options:\n",
            "\n",
            "Please select one of the following options:\n",
            "\n",
            "Please select one of the following options:\n",
            "\n",
            "Please select one of the following options:\n",
            "\n",
            "Please select one of the following options:\n",
            "\n",
            "Please select one of the following options:\n",
            "\n",
            "Please select one of the following options:\n",
            "\n",
            "Please select one of\n",
            "----------------------------------------------------------------------------------------------------\n",
            "Document 3:\n",
            "NO_OUTPUT\n",
            "\n",
            "The context does not contain any information about the name of the dog school. Therefore, it is not possible to answer the question based on the given context.\n",
            "----------------------------------------------------------------------------------------------------\n",
            "Document 4:\n",
            "NO_OUTPUT\n",
            "\n",
            "The context does not contain any information about the name of the dog school. Therefore, it is not possible to answer the question based on the given context.\n"
          ]
        }
      ],
      "source": [
        "from langchain.retrievers import ContextualCompressionRetriever\n",
        "from langchain.retrievers.document_compressors import LLMChainExtractor\n",
        "\n",
        "compressor = LLMChainExtractor.from_llm(llm)\n",
        "compression_retriever = ContextualCompressionRetriever(base_compressor=compressor, base_retriever=retriever)\n",
        "\n",
        "compressed_docs = compression_retriever.get_relevant_documents(query=question)\n",
        "pretty_print_docs(compressed_docs)"
      ]
    },
    {
      "cell_type": "markdown",
      "source": [
        "Note that is mehtod is powerful but expensive because it calls llm for every single document. The efficent way is using embedding fileter which wont sent all documents to llm. Instead, we send them to embeddings and base on similarity threshhold."
      ],
      "metadata": {
        "id": "3y6XqysUWme2"
      }
    },
    {
      "cell_type": "code",
      "execution_count": 58,
      "metadata": {
        "id": "rc_0miYjkh-D",
        "colab": {
          "base_uri": "https://localhost:8080/"
        },
        "outputId": "19a2d866-4b51-46ee-bb7f-0a070594a5f1"
      },
      "outputs": [
        {
          "output_type": "stream",
          "name": "stdout",
          "text": [
            "Document 1:\n",
            "A1: The school is called \"Canine Academy\".\n",
            "----------------------------------------------------------------------------------------------------\n",
            "Document 2:\n",
            "Fiktive Hundeschule: Canine Academy\n",
            "Q1: What is the name of the dog training school?\n",
            "----------------------------------------------------------------------------------------------------\n",
            "Document 3:\n",
            "Q10: Does Canine Academy offer any support or follow-up after completion of a course?\n",
            "----------------------------------------------------------------------------------------------------\n",
            "Document 4:\n",
            "Q3: What training programs are offered at Canine Academy?\n"
          ]
        }
      ],
      "source": [
        "from langchain.embeddings import OpenAIEmbeddings\n",
        "from langchain.retrievers.document_compressors import EmbeddingsFilter\n",
        "\n",
        "embeddings_filter = EmbeddingsFilter(embeddings=embedding, similarity_threshold=0.5)\n",
        "compression_retriever = ContextualCompressionRetriever(base_compressor=embeddings_filter, base_retriever=retriever)\n",
        "\n",
        "compressed_docs = compression_retriever.get_relevant_documents(query=question)\n",
        "pretty_print_docs(compressed_docs)"
      ]
    },
    {
      "cell_type": "code",
      "execution_count": 59,
      "metadata": {
        "id": "2RB4Ls7akh-E",
        "colab": {
          "base_uri": "https://localhost:8080/"
        },
        "outputId": "a69a44db-5e9c-436f-d020-8009c44da1d9"
      },
      "outputs": [
        {
          "output_type": "stream",
          "name": "stdout",
          "text": [
            "Document 1:\n",
            "A1: The school is called \"Canine Academy\".\n",
            "----------------------------------------------------------------------------------------------------\n",
            "Document 2:\n",
            "Fiktive Hundeschule: Canine Academy\n",
            "Q1: What is the name of the dog training school?\n"
          ]
        }
      ],
      "source": [
        "# here we use several filters\n",
        "from langchain.document_transformers import EmbeddingsRedundantFilter\n",
        "from langchain.retrievers.document_compressors import DocumentCompressorPipeline\n",
        "from langchain.text_splitter import CharacterTextSplitter\n",
        "\n",
        "splitter = CharacterTextSplitter(chunk_size=300, chunk_overlap=0, separator=\". \")\n",
        "redundant_filter = EmbeddingsRedundantFilter(embeddings=embedding)\n",
        "relevant_filter = EmbeddingsFilter(embeddings=embedding, similarity_threshold=0.76)\n",
        "pipeline_compressor = DocumentCompressorPipeline(\n",
        "    transformers=[splitter, redundant_filter, relevant_filter] # the is the sequence that what we do step by step\n",
        ")\n",
        "\n",
        "compression_retriever = ContextualCompressionRetriever(base_compressor=pipeline_compressor, base_retriever=retriever)\n",
        "\n",
        "compressed_docs = compression_retriever.get_relevant_documents(query=question)\n",
        "pretty_print_docs(compressed_docs)"
      ]
    },
    {
      "cell_type": "code",
      "source": [
        "!pip install rank_bm25 -qqq"
      ],
      "metadata": {
        "id": "cVTkAdYhY8YE"
      },
      "execution_count": 61,
      "outputs": []
    },
    {
      "cell_type": "markdown",
      "metadata": {
        "id": "G8cKWIDakh-E"
      },
      "source": [
        "### Ensemble Retriever\n",
        "\n",
        "Here, we use several algorithm to retrieve infomation. BM25Retrieve is good one for retrieving keywords"
      ]
    },
    {
      "cell_type": "code",
      "execution_count": 62,
      "metadata": {
        "id": "KX-j1BXGkh-E",
        "colab": {
          "base_uri": "https://localhost:8080/"
        },
        "outputId": "ecb39db1-e777-4132-d587-e12fef382af7"
      },
      "outputs": [
        {
          "output_type": "stream",
          "name": "stderr",
          "text": [
            "WARNING:chromadb:Using embedded DuckDB without persistence: data will be transient\n",
            "WARNING:chromadb.api.models.Collection:No embedding_function provided, using default embedding function: SentenceTransformerEmbeddingFunction\n"
          ]
        }
      ],
      "source": [
        "from langchain.retrievers import BM25Retriever, EnsembleRetriever\n",
        "\n",
        "\n",
        "bm25_retriever = BM25Retriever.from_documents(docs)\n",
        "bm25_retriever.k = 2\n",
        "\n",
        "chroma_vectorstore = Chroma.from_documents(docs, embedding)\n",
        "chroma_retriever = chroma_vectorstore.as_retriever()\n",
        "\n",
        "ensemble_retriever = EnsembleRetriever(\n",
        "    retrievers=[bm25_retriever, chroma_retriever], weights=[0.5, 0.5]\n",
        ")"
      ]
    },
    {
      "cell_type": "code",
      "execution_count": 63,
      "metadata": {
        "id": "A_w5nt4Skh-E",
        "colab": {
          "base_uri": "https://localhost:8080/"
        },
        "outputId": "f4e1694a-ace6-494c-d2ae-10379c3f8060"
      },
      "outputs": [
        {
          "output_type": "execute_result",
          "data": {
            "text/plain": [
              "[Document(page_content='Fiktive Hundeschule: Canine Academy\\nQ1: What is the name of the dog training school?', metadata={'source': './dogs.txt'}),\n",
              " Document(page_content='A1: The school is called \"Canine Academy\".', metadata={'source': './dogs.txt'}),\n",
              " Document(page_content=\"Fiktives Restaurant: Gourmet's Delight\\nQ1: What is the name of the restaurant?\", metadata={'source': './restaurant.txt'}),\n",
              " Document(page_content='Q10: Does Canine Academy offer any support or follow-up after completion of a course?', metadata={'source': './dogs.txt'}),\n",
              " Document(page_content='Q3: What training programs are offered at Canine Academy?', metadata={'source': './dogs.txt'})]"
            ]
          },
          "metadata": {},
          "execution_count": 63
        }
      ],
      "source": [
        "docs = ensemble_retriever.get_relevant_documents(query=question)\n",
        "docs"
      ]
    },
    {
      "cell_type": "markdown",
      "metadata": {
        "id": "PD7hKzWWkh-E"
      },
      "source": [
        "### Self-Querying retriever\n",
        "\n",
        "A self-querying retriever is a retriever that, as the name suggests, has the ability to\n",
        "the ability to query itself. More precisely, any natural language query,\n",
        " the retriever uses an LLM chain for query construction to write a structured query\n",
        " structured query and then applies this structured query to the underlying\n",
        "VectorStore. This allows the retriever to not only use the query entered by the user\n",
        "query for the semantic similarity comparison with the content of the stored\n",
        "documents, but also apply filters from the user query to the metadata of the stored\n",
        "metadata of the stored documents and execute these filters."
      ]
    },
    {
      "cell_type": "code",
      "execution_count": 64,
      "metadata": {
        "id": "MTaFYKZrkh-E",
        "colab": {
          "base_uri": "https://localhost:8080/"
        },
        "outputId": "86c480da-1ffe-4c8a-edbb-1bf77472571a"
      },
      "outputs": [
        {
          "output_type": "stream",
          "name": "stderr",
          "text": [
            "WARNING:chromadb:Using embedded DuckDB without persistence: data will be transient\n",
            "WARNING:chromadb.api.models.Collection:No embedding_function provided, using default embedding function: SentenceTransformerEmbeddingFunction\n"
          ]
        }
      ],
      "source": [
        "from langchain.schema import Document\n",
        "from langchain.vectorstores import Chroma\n",
        "\n",
        "docs = [\n",
        "    Document(\n",
        "        page_content=\"Bello-Basistraining offers a comprehensive foundation for dog obedience, focusing on basic commands and socialization.\",\n",
        "        metadata={\"type\": \"Basic Training\", \"feature\": \"Foundational Skills\", \"price\": \"Affordable\"},\n",
        "    ),\n",
        "    Document(\n",
        "        page_content=\"Pfote-Agilitykurs provides a fun and energetic way to keep dogs fit and mentally stimulated through obstacle courses.\",\n",
        "        metadata={\"type\": \"Agility Training\", \"feature\": \"Physical Fitness\", \"price\": \"Moderate\"},\n",
        "    ),\n",
        "    Document(\n",
        "        page_content=\"Wuff-Verhaltensberatung specializes in addressing behavioral issues, offering tailored strategies for each dog.\",\n",
        "        metadata={\"type\": \"Behavioral Consultation\", \"feature\": \"Customized Solutions\", \"price\": \"Premium\"},\n",
        "    ),\n",
        "    Document(\n",
        "        page_content=\"Schwanzwedeln-Therapiehundausbildung prepares dogs for roles in therapeutic and support settings, focusing on empathy and gentleness.\",\n",
        "        metadata={\"type\": \"Therapy Dog Training\", \"feature\": \"Emotional Support\", \"price\": \"High\"},\n",
        "    ),\n",
        "    Document(\n",
        "        page_content=\"Schnüffler-Suchhundetraining trains dogs in scent detection, useful for search and rescue operations.\",\n",
        "        metadata={\"type\": \"Search and Rescue Training\", \"feature\": \"Advanced Skills\", \"price\": \"Variable\"},\n",
        "    ),\n",
        "    Document(\n",
        "        page_content=\"Hunde-Haftpflichtversicherung offers comprehensive coverage for potential damages or injuries caused by your dog.\",\n",
        "        metadata={\"type\": \"Dog Liability Insurance\", \"feature\": \"Financial Protection\", \"price\": \"Varies\"},\n",
        "    ),\n",
        "]\n",
        "\n",
        "vectorstore = Chroma.from_documents(docs, embedding)\n"
      ]
    },
    {
      "cell_type": "code",
      "source": [
        "!pip install lark -qqq"
      ],
      "metadata": {
        "colab": {
          "base_uri": "https://localhost:8080/"
        },
        "id": "AYU5LDAdaEZJ",
        "outputId": "6bca7c51-32ab-48d1-97de-3ea3e328c755"
      },
      "execution_count": 66,
      "outputs": [
        {
          "output_type": "stream",
          "name": "stdout",
          "text": [
            "\u001b[?25l     \u001b[90m━━━━━━━━━━━━━━━━━━━━━━━━━━━━━━━━━━━━━━━━\u001b[0m \u001b[32m0.0/111.7 kB\u001b[0m \u001b[31m?\u001b[0m eta \u001b[36m-:--:--\u001b[0m\r\u001b[2K     \u001b[91m━━━━━━━━━━━━━━━━━━━━━━━━━━━━━━━━━━━━\u001b[0m\u001b[91m╸\u001b[0m\u001b[90m━━━\u001b[0m \u001b[32m102.4/111.7 kB\u001b[0m \u001b[31m4.1 MB/s\u001b[0m eta \u001b[36m0:00:01\u001b[0m\r\u001b[2K     \u001b[90m━━━━━━━━━━━━━━━━━━━━━━━━━━━━━━━━━━━━━━━━\u001b[0m \u001b[32m111.7/111.7 kB\u001b[0m \u001b[31m2.8 MB/s\u001b[0m eta \u001b[36m0:00:00\u001b[0m\n",
            "\u001b[?25h"
          ]
        }
      ]
    },
    {
      "cell_type": "code",
      "execution_count": 68,
      "metadata": {
        "id": "jPJkKqiNkh-E",
        "colab": {
          "base_uri": "https://localhost:8080/",
          "height": 530
        },
        "outputId": "94289c4f-93b0-455a-afb6-67cb704f7684"
      },
      "outputs": [
        {
          "output_type": "error",
          "ename": "ImportError",
          "evalue": "Cannot import lark, please install it with 'pip install lark'.",
          "traceback": [
            "\u001b[0;31m---------------------------------------------------------------------------\u001b[0m",
            "\u001b[0;31mImportError\u001b[0m                               Traceback (most recent call last)",
            "\u001b[0;32m<ipython-input-68-5fbe19496255>\u001b[0m in \u001b[0;36m<cell line: 24>\u001b[0;34m()\u001b[0m\n\u001b[1;32m     22\u001b[0m \u001b[0;34m\u001b[0m\u001b[0m\n\u001b[1;32m     23\u001b[0m \u001b[0mdocument_content_description\u001b[0m \u001b[0;34m=\u001b[0m \u001b[0;34m\"Description of a dog training service\"\u001b[0m\u001b[0;34m\u001b[0m\u001b[0;34m\u001b[0m\u001b[0m\n\u001b[0;32m---> 24\u001b[0;31m retriever = SelfQueryRetriever.from_llm(\n\u001b[0m\u001b[1;32m     25\u001b[0m     \u001b[0mllm\u001b[0m\u001b[0;34m,\u001b[0m\u001b[0;34m\u001b[0m\u001b[0;34m\u001b[0m\u001b[0m\n\u001b[1;32m     26\u001b[0m     \u001b[0mvectorstore\u001b[0m\u001b[0;34m,\u001b[0m\u001b[0;34m\u001b[0m\u001b[0;34m\u001b[0m\u001b[0m\n",
            "\u001b[0;32m/usr/local/lib/python3.10/dist-packages/langchain/retrievers/self_query/base.py\u001b[0m in \u001b[0;36mfrom_llm\u001b[0;34m(cls, llm, vectorstore, document_contents, metadata_field_info, structured_query_translator, chain_kwargs, enable_limit, use_original_query, **kwargs)\u001b[0m\n\u001b[1;32m    226\u001b[0m                 \u001b[0;34m\"allowed_operators\"\u001b[0m\u001b[0;34m\u001b[0m\u001b[0;34m\u001b[0m\u001b[0m\n\u001b[1;32m    227\u001b[0m             ] = structured_query_translator.allowed_operators\n\u001b[0;32m--> 228\u001b[0;31m         query_constructor = load_query_constructor_runnable(\n\u001b[0m\u001b[1;32m    229\u001b[0m             \u001b[0mllm\u001b[0m\u001b[0;34m,\u001b[0m\u001b[0;34m\u001b[0m\u001b[0;34m\u001b[0m\u001b[0m\n\u001b[1;32m    230\u001b[0m             \u001b[0mdocument_contents\u001b[0m\u001b[0;34m,\u001b[0m\u001b[0;34m\u001b[0m\u001b[0;34m\u001b[0m\u001b[0m\n",
            "\u001b[0;32m/usr/local/lib/python3.10/dist-packages/langchain/chains/query_constructor/base.py\u001b[0m in \u001b[0;36mload_query_constructor_runnable\u001b[0;34m(llm, document_contents, attribute_info, examples, allowed_comparators, allowed_operators, enable_limit, schema_prompt, fix_invalid, **kwargs)\u001b[0m\n\u001b[1;32m    355\u001b[0m             \u001b[0mainfo\u001b[0m\u001b[0;34m.\u001b[0m\u001b[0mname\u001b[0m \u001b[0;32mif\u001b[0m \u001b[0misinstance\u001b[0m\u001b[0;34m(\u001b[0m\u001b[0mainfo\u001b[0m\u001b[0;34m,\u001b[0m \u001b[0mAttributeInfo\u001b[0m\u001b[0;34m)\u001b[0m \u001b[0;32melse\u001b[0m \u001b[0mainfo\u001b[0m\u001b[0;34m[\u001b[0m\u001b[0;34m\"name\"\u001b[0m\u001b[0;34m]\u001b[0m\u001b[0;34m\u001b[0m\u001b[0;34m\u001b[0m\u001b[0m\n\u001b[1;32m    356\u001b[0m         )\n\u001b[0;32m--> 357\u001b[0;31m     output_parser = StructuredQueryOutputParser.from_components(\n\u001b[0m\u001b[1;32m    358\u001b[0m         \u001b[0mallowed_comparators\u001b[0m\u001b[0;34m=\u001b[0m\u001b[0mallowed_comparators\u001b[0m\u001b[0;34m,\u001b[0m\u001b[0;34m\u001b[0m\u001b[0;34m\u001b[0m\u001b[0m\n\u001b[1;32m    359\u001b[0m         \u001b[0mallowed_operators\u001b[0m\u001b[0;34m=\u001b[0m\u001b[0mallowed_operators\u001b[0m\u001b[0;34m,\u001b[0m\u001b[0;34m\u001b[0m\u001b[0;34m\u001b[0m\u001b[0m\n",
            "\u001b[0;32m/usr/local/lib/python3.10/dist-packages/langchain/chains/query_constructor/base.py\u001b[0m in \u001b[0;36mfrom_components\u001b[0;34m(cls, allowed_comparators, allowed_operators, allowed_attributes, fix_invalid)\u001b[0m\n\u001b[1;32m     97\u001b[0m \u001b[0;34m\u001b[0m\u001b[0m\n\u001b[1;32m     98\u001b[0m         \u001b[0;32melse\u001b[0m\u001b[0;34m:\u001b[0m\u001b[0;34m\u001b[0m\u001b[0;34m\u001b[0m\u001b[0m\n\u001b[0;32m---> 99\u001b[0;31m             ast_parse = get_parser(\n\u001b[0m\u001b[1;32m    100\u001b[0m                 \u001b[0mallowed_comparators\u001b[0m\u001b[0;34m=\u001b[0m\u001b[0mallowed_comparators\u001b[0m\u001b[0;34m,\u001b[0m\u001b[0;34m\u001b[0m\u001b[0;34m\u001b[0m\u001b[0m\n\u001b[1;32m    101\u001b[0m                 \u001b[0mallowed_operators\u001b[0m\u001b[0;34m=\u001b[0m\u001b[0mallowed_operators\u001b[0m\u001b[0;34m,\u001b[0m\u001b[0;34m\u001b[0m\u001b[0;34m\u001b[0m\u001b[0m\n",
            "\u001b[0;32m/usr/local/lib/python3.10/dist-packages/langchain/chains/query_constructor/parser.py\u001b[0m in \u001b[0;36mget_parser\u001b[0;34m(allowed_comparators, allowed_operators, allowed_attributes)\u001b[0m\n\u001b[1;32m    172\u001b[0m     \u001b[0;31m# QueryTransformer is None when Lark cannot be imported.\u001b[0m\u001b[0;34m\u001b[0m\u001b[0;34m\u001b[0m\u001b[0m\n\u001b[1;32m    173\u001b[0m     \u001b[0;32mif\u001b[0m \u001b[0mQueryTransformer\u001b[0m \u001b[0;32mis\u001b[0m \u001b[0;32mNone\u001b[0m\u001b[0;34m:\u001b[0m\u001b[0;34m\u001b[0m\u001b[0;34m\u001b[0m\u001b[0m\n\u001b[0;32m--> 174\u001b[0;31m         raise ImportError(\n\u001b[0m\u001b[1;32m    175\u001b[0m             \u001b[0;34m\"Cannot import lark, please install it with 'pip install lark'.\"\u001b[0m\u001b[0;34m\u001b[0m\u001b[0;34m\u001b[0m\u001b[0m\n\u001b[1;32m    176\u001b[0m         )\n",
            "\u001b[0;31mImportError\u001b[0m: Cannot import lark, please install it with 'pip install lark'.",
            "",
            "\u001b[0;31m---------------------------------------------------------------------------\u001b[0;32m\nNOTE: If your import is failing due to a missing package, you can\nmanually install dependencies using either !pip or !apt.\n\nTo view examples of installing some common dependencies, click the\n\"Open Examples\" button below.\n\u001b[0;31m---------------------------------------------------------------------------\u001b[0m\n"
          ],
          "errorDetails": {
            "actions": [
              {
                "action": "open_url",
                "actionText": "Open Examples",
                "url": "/notebooks/snippets/importing_libraries.ipynb"
              }
            ]
          }
        }
      ],
      "source": [
        "from langchain.vectorstores import Chroma\n",
        "from langchain.chains.query_constructor.base import AttributeInfo\n",
        "from langchain.retrievers.self_query.base import SelfQueryRetriever\n",
        "\n",
        "metadata_field_info = [\n",
        "    AttributeInfo(\n",
        "        name=\"type\",\n",
        "        description=\"The type of dog training service (e.g., Basic Training, Agility Training, Behavioral Consultation)\",\n",
        "        type=\"string\",\n",
        "    ),\n",
        "    AttributeInfo(\n",
        "        name=\"feature\",\n",
        "        description=\"Special features or benefits of the service\",\n",
        "        type=\"string\",\n",
        "    ),\n",
        "    AttributeInfo(\n",
        "        name=\"price\",\n",
        "        description=\"Price category of the service (e.g., Affordable, Moderate, Premium)\",\n",
        "        type=\"string\",\n",
        "    ),\n",
        "]\n",
        "\n",
        "document_content_description = \"Description of a dog training service\"\n",
        "retriever = SelfQueryRetriever.from_llm(\n",
        "    llm,\n",
        "    vectorstore,\n",
        "    document_content_description,\n",
        "    metadata_field_info,\n",
        ")\n"
      ]
    },
    {
      "cell_type": "code",
      "execution_count": null,
      "metadata": {
        "id": "V9cu_WNGkh-E"
      },
      "outputs": [],
      "source": [
        "retriever.invoke(\"What Premium priced trainings do you offer?\") # powerful method if you have meta data"
      ]
    },
    {
      "cell_type": "markdown",
      "metadata": {
        "id": "Q0RZ8bQAkh-E"
      },
      "source": [
        "### Time-weighted vector store retriever\n",
        "\n",
        "you need to have time instance in meta data like the document is upadated at ...\n",
        "works good for task require time decay like news and you dont want retreive old documents."
      ]
    },
    {
      "cell_type": "code",
      "source": [
        "!pip install faiss-cpu -qqq"
      ],
      "metadata": {
        "colab": {
          "base_uri": "https://localhost:8080/"
        },
        "id": "RODKA261anK3",
        "outputId": "93c465c4-2752-4153-b69d-8b8a61b41da3"
      },
      "execution_count": 71,
      "outputs": [
        {
          "output_type": "stream",
          "name": "stdout",
          "text": [
            "\u001b[2K     \u001b[90m━━━━━━━━━━━━━━━━━━━━━━━━━━━━━━━━━━━━━━━━\u001b[0m \u001b[32m17.6/17.6 MB\u001b[0m \u001b[31m33.6 MB/s\u001b[0m eta \u001b[36m0:00:00\u001b[0m\n",
            "\u001b[?25h"
          ]
        }
      ]
    },
    {
      "cell_type": "code",
      "execution_count": 72,
      "metadata": {
        "id": "J7lbBoL5kh-E"
      },
      "outputs": [],
      "source": [
        "import faiss\n",
        "\n",
        "from datetime import datetime, timedelta\n",
        "from langchain.docstore import InMemoryDocstore\n",
        "from langchain.embeddings import OpenAIEmbeddings\n",
        "from langchain.retrievers import TimeWeightedVectorStoreRetriever\n",
        "from langchain.schema import Document\n",
        "from langchain.vectorstores import FAISS"
      ]
    },
    {
      "cell_type": "code",
      "execution_count": 73,
      "metadata": {
        "id": "8wiw4mHZkh-E"
      },
      "outputs": [],
      "source": [
        "\n",
        "# decay_rate = .0000000000000000000000001\n",
        "decay_rate = .999\n",
        "\n",
        "embedding_size = 1536\n",
        "index = faiss.IndexFlatL2(embedding_size)\n",
        "vectorstore = FAISS(embedding, index, InMemoryDocstore({}), {})\n",
        "retriever = TimeWeightedVectorStoreRetriever(vectorstore=vectorstore, decay_rate=decay_rate, k=1)"
      ]
    },
    {
      "cell_type": "code",
      "execution_count": 76,
      "metadata": {
        "id": "N9ghSaiakh-E",
        "colab": {
          "base_uri": "https://localhost:8080/",
          "height": 356
        },
        "outputId": "58c927f2-e2cb-45fe-e9e9-c9167a0917fc"
      },
      "outputs": [
        {
          "output_type": "error",
          "ename": "AssertionError",
          "evalue": "",
          "traceback": [
            "\u001b[0;31m---------------------------------------------------------------------------\u001b[0m",
            "\u001b[0;31mAssertionError\u001b[0m                            Traceback (most recent call last)",
            "\u001b[0;32m<ipython-input-76-f80b6e589dd2>\u001b[0m in \u001b[0;36m<cell line: 2>\u001b[0;34m()\u001b[0m\n\u001b[1;32m      1\u001b[0m \u001b[0myesterday\u001b[0m \u001b[0;34m=\u001b[0m \u001b[0mdatetime\u001b[0m\u001b[0;34m.\u001b[0m\u001b[0mnow\u001b[0m\u001b[0;34m(\u001b[0m\u001b[0;34m)\u001b[0m \u001b[0;34m-\u001b[0m \u001b[0mtimedelta\u001b[0m\u001b[0;34m(\u001b[0m\u001b[0mdays\u001b[0m\u001b[0;34m=\u001b[0m\u001b[0;36m1\u001b[0m\u001b[0;34m)\u001b[0m\u001b[0;34m\u001b[0m\u001b[0;34m\u001b[0m\u001b[0m\n\u001b[0;32m----> 2\u001b[0;31m \u001b[0mretriever\u001b[0m\u001b[0;34m.\u001b[0m\u001b[0madd_documents\u001b[0m\u001b[0;34m(\u001b[0m\u001b[0;34m[\u001b[0m\u001b[0mDocument\u001b[0m\u001b[0;34m(\u001b[0m\u001b[0mpage_content\u001b[0m\u001b[0;34m=\u001b[0m\u001b[0;34m\"hello world\"\u001b[0m\u001b[0;34m,\u001b[0m \u001b[0mmetadata\u001b[0m\u001b[0;34m=\u001b[0m\u001b[0;34m{\u001b[0m\u001b[0;34m\"last_accessed_at\"\u001b[0m\u001b[0;34m:\u001b[0m \u001b[0myesterday\u001b[0m\u001b[0;34m}\u001b[0m\u001b[0;34m)\u001b[0m\u001b[0;34m]\u001b[0m\u001b[0;34m)\u001b[0m\u001b[0;34m\u001b[0m\u001b[0;34m\u001b[0m\u001b[0m\n\u001b[0m\u001b[1;32m      3\u001b[0m \u001b[0mretriever\u001b[0m\u001b[0;34m.\u001b[0m\u001b[0madd_documents\u001b[0m\u001b[0;34m(\u001b[0m\u001b[0;34m[\u001b[0m\u001b[0mDocument\u001b[0m\u001b[0;34m(\u001b[0m\u001b[0mpage_content\u001b[0m\u001b[0;34m=\u001b[0m\u001b[0;34m\"hello foo\"\u001b[0m\u001b[0;34m)\u001b[0m\u001b[0;34m]\u001b[0m\u001b[0;34m)\u001b[0m\u001b[0;34m\u001b[0m\u001b[0;34m\u001b[0m\u001b[0m\n",
            "\u001b[0;32m/usr/local/lib/python3.10/dist-packages/langchain/retrievers/time_weighted_retriever.py\u001b[0m in \u001b[0;36madd_documents\u001b[0;34m(self, documents, **kwargs)\u001b[0m\n\u001b[1;32m    129\u001b[0m             \u001b[0mdoc\u001b[0m\u001b[0;34m.\u001b[0m\u001b[0mmetadata\u001b[0m\u001b[0;34m[\u001b[0m\u001b[0;34m\"buffer_idx\"\u001b[0m\u001b[0;34m]\u001b[0m \u001b[0;34m=\u001b[0m \u001b[0mlen\u001b[0m\u001b[0;34m(\u001b[0m\u001b[0mself\u001b[0m\u001b[0;34m.\u001b[0m\u001b[0mmemory_stream\u001b[0m\u001b[0;34m)\u001b[0m \u001b[0;34m+\u001b[0m \u001b[0mi\u001b[0m\u001b[0;34m\u001b[0m\u001b[0;34m\u001b[0m\u001b[0m\n\u001b[1;32m    130\u001b[0m         \u001b[0mself\u001b[0m\u001b[0;34m.\u001b[0m\u001b[0mmemory_stream\u001b[0m\u001b[0;34m.\u001b[0m\u001b[0mextend\u001b[0m\u001b[0;34m(\u001b[0m\u001b[0mdup_docs\u001b[0m\u001b[0;34m)\u001b[0m\u001b[0;34m\u001b[0m\u001b[0;34m\u001b[0m\u001b[0m\n\u001b[0;32m--> 131\u001b[0;31m         \u001b[0;32mreturn\u001b[0m \u001b[0mself\u001b[0m\u001b[0;34m.\u001b[0m\u001b[0mvectorstore\u001b[0m\u001b[0;34m.\u001b[0m\u001b[0madd_documents\u001b[0m\u001b[0;34m(\u001b[0m\u001b[0mdup_docs\u001b[0m\u001b[0;34m,\u001b[0m \u001b[0;34m**\u001b[0m\u001b[0mkwargs\u001b[0m\u001b[0;34m)\u001b[0m\u001b[0;34m\u001b[0m\u001b[0;34m\u001b[0m\u001b[0m\n\u001b[0m\u001b[1;32m    132\u001b[0m \u001b[0;34m\u001b[0m\u001b[0m\n\u001b[1;32m    133\u001b[0m     async def aadd_documents(\n",
            "\u001b[0;32m/usr/local/lib/python3.10/dist-packages/langchain_core/vectorstores.py\u001b[0m in \u001b[0;36madd_documents\u001b[0;34m(self, documents, **kwargs)\u001b[0m\n\u001b[1;32m    117\u001b[0m         \u001b[0mtexts\u001b[0m \u001b[0;34m=\u001b[0m \u001b[0;34m[\u001b[0m\u001b[0mdoc\u001b[0m\u001b[0;34m.\u001b[0m\u001b[0mpage_content\u001b[0m \u001b[0;32mfor\u001b[0m \u001b[0mdoc\u001b[0m \u001b[0;32min\u001b[0m \u001b[0mdocuments\u001b[0m\u001b[0;34m]\u001b[0m\u001b[0;34m\u001b[0m\u001b[0;34m\u001b[0m\u001b[0m\n\u001b[1;32m    118\u001b[0m         \u001b[0mmetadatas\u001b[0m \u001b[0;34m=\u001b[0m \u001b[0;34m[\u001b[0m\u001b[0mdoc\u001b[0m\u001b[0;34m.\u001b[0m\u001b[0mmetadata\u001b[0m \u001b[0;32mfor\u001b[0m \u001b[0mdoc\u001b[0m \u001b[0;32min\u001b[0m \u001b[0mdocuments\u001b[0m\u001b[0;34m]\u001b[0m\u001b[0;34m\u001b[0m\u001b[0;34m\u001b[0m\u001b[0m\n\u001b[0;32m--> 119\u001b[0;31m         \u001b[0;32mreturn\u001b[0m \u001b[0mself\u001b[0m\u001b[0;34m.\u001b[0m\u001b[0madd_texts\u001b[0m\u001b[0;34m(\u001b[0m\u001b[0mtexts\u001b[0m\u001b[0;34m,\u001b[0m \u001b[0mmetadatas\u001b[0m\u001b[0;34m,\u001b[0m \u001b[0;34m**\u001b[0m\u001b[0mkwargs\u001b[0m\u001b[0;34m)\u001b[0m\u001b[0;34m\u001b[0m\u001b[0;34m\u001b[0m\u001b[0m\n\u001b[0m\u001b[1;32m    120\u001b[0m \u001b[0;34m\u001b[0m\u001b[0m\n\u001b[1;32m    121\u001b[0m     async def aadd_documents(\n",
            "\u001b[0;32m/usr/local/lib/python3.10/dist-packages/langchain_community/vectorstores/faiss.py\u001b[0m in \u001b[0;36madd_texts\u001b[0;34m(self, texts, metadatas, ids, **kwargs)\u001b[0m\n\u001b[1;32m    224\u001b[0m         \u001b[0mtexts\u001b[0m \u001b[0;34m=\u001b[0m \u001b[0mlist\u001b[0m\u001b[0;34m(\u001b[0m\u001b[0mtexts\u001b[0m\u001b[0;34m)\u001b[0m\u001b[0;34m\u001b[0m\u001b[0;34m\u001b[0m\u001b[0m\n\u001b[1;32m    225\u001b[0m         \u001b[0membeddings\u001b[0m \u001b[0;34m=\u001b[0m \u001b[0mself\u001b[0m\u001b[0;34m.\u001b[0m\u001b[0m_embed_documents\u001b[0m\u001b[0;34m(\u001b[0m\u001b[0mtexts\u001b[0m\u001b[0;34m)\u001b[0m\u001b[0;34m\u001b[0m\u001b[0;34m\u001b[0m\u001b[0m\n\u001b[0;32m--> 226\u001b[0;31m         \u001b[0;32mreturn\u001b[0m \u001b[0mself\u001b[0m\u001b[0;34m.\u001b[0m\u001b[0m__add\u001b[0m\u001b[0;34m(\u001b[0m\u001b[0mtexts\u001b[0m\u001b[0;34m,\u001b[0m \u001b[0membeddings\u001b[0m\u001b[0;34m,\u001b[0m \u001b[0mmetadatas\u001b[0m\u001b[0;34m=\u001b[0m\u001b[0mmetadatas\u001b[0m\u001b[0;34m,\u001b[0m \u001b[0mids\u001b[0m\u001b[0;34m=\u001b[0m\u001b[0mids\u001b[0m\u001b[0;34m)\u001b[0m\u001b[0;34m\u001b[0m\u001b[0;34m\u001b[0m\u001b[0m\n\u001b[0m\u001b[1;32m    227\u001b[0m \u001b[0;34m\u001b[0m\u001b[0m\n\u001b[1;32m    228\u001b[0m     async def aadd_texts(\n",
            "\u001b[0;32m/usr/local/lib/python3.10/dist-packages/langchain_community/vectorstores/faiss.py\u001b[0m in \u001b[0;36m__add\u001b[0;34m(self, texts, embeddings, metadatas, ids)\u001b[0m\n\u001b[1;32m    195\u001b[0m         \u001b[0;32mif\u001b[0m \u001b[0mself\u001b[0m\u001b[0;34m.\u001b[0m\u001b[0m_normalize_L2\u001b[0m\u001b[0;34m:\u001b[0m\u001b[0;34m\u001b[0m\u001b[0;34m\u001b[0m\u001b[0m\n\u001b[1;32m    196\u001b[0m             \u001b[0mfaiss\u001b[0m\u001b[0;34m.\u001b[0m\u001b[0mnormalize_L2\u001b[0m\u001b[0;34m(\u001b[0m\u001b[0mvector\u001b[0m\u001b[0;34m)\u001b[0m\u001b[0;34m\u001b[0m\u001b[0;34m\u001b[0m\u001b[0m\n\u001b[0;32m--> 197\u001b[0;31m         \u001b[0mself\u001b[0m\u001b[0;34m.\u001b[0m\u001b[0mindex\u001b[0m\u001b[0;34m.\u001b[0m\u001b[0madd\u001b[0m\u001b[0;34m(\u001b[0m\u001b[0mvector\u001b[0m\u001b[0;34m)\u001b[0m\u001b[0;34m\u001b[0m\u001b[0;34m\u001b[0m\u001b[0m\n\u001b[0m\u001b[1;32m    198\u001b[0m \u001b[0;34m\u001b[0m\u001b[0m\n\u001b[1;32m    199\u001b[0m         \u001b[0;31m# Add information to docstore and index.\u001b[0m\u001b[0;34m\u001b[0m\u001b[0;34m\u001b[0m\u001b[0m\n",
            "\u001b[0;32m/usr/local/lib/python3.10/dist-packages/faiss/class_wrappers.py\u001b[0m in \u001b[0;36mreplacement_add\u001b[0;34m(self, x)\u001b[0m\n\u001b[1;32m    226\u001b[0m \u001b[0;34m\u001b[0m\u001b[0m\n\u001b[1;32m    227\u001b[0m         \u001b[0mn\u001b[0m\u001b[0;34m,\u001b[0m \u001b[0md\u001b[0m \u001b[0;34m=\u001b[0m \u001b[0mx\u001b[0m\u001b[0;34m.\u001b[0m\u001b[0mshape\u001b[0m\u001b[0;34m\u001b[0m\u001b[0;34m\u001b[0m\u001b[0m\n\u001b[0;32m--> 228\u001b[0;31m         \u001b[0;32massert\u001b[0m \u001b[0md\u001b[0m \u001b[0;34m==\u001b[0m \u001b[0mself\u001b[0m\u001b[0;34m.\u001b[0m\u001b[0md\u001b[0m\u001b[0;34m\u001b[0m\u001b[0;34m\u001b[0m\u001b[0m\n\u001b[0m\u001b[1;32m    229\u001b[0m         \u001b[0mx\u001b[0m \u001b[0;34m=\u001b[0m \u001b[0mnp\u001b[0m\u001b[0;34m.\u001b[0m\u001b[0mascontiguousarray\u001b[0m\u001b[0;34m(\u001b[0m\u001b[0mx\u001b[0m\u001b[0;34m,\u001b[0m \u001b[0mdtype\u001b[0m\u001b[0;34m=\u001b[0m\u001b[0;34m'float32'\u001b[0m\u001b[0;34m)\u001b[0m\u001b[0;34m\u001b[0m\u001b[0;34m\u001b[0m\u001b[0m\n\u001b[1;32m    230\u001b[0m         \u001b[0mself\u001b[0m\u001b[0;34m.\u001b[0m\u001b[0madd_c\u001b[0m\u001b[0;34m(\u001b[0m\u001b[0mn\u001b[0m\u001b[0;34m,\u001b[0m \u001b[0mswig_ptr\u001b[0m\u001b[0;34m(\u001b[0m\u001b[0mx\u001b[0m\u001b[0;34m)\u001b[0m\u001b[0;34m)\u001b[0m\u001b[0;34m\u001b[0m\u001b[0;34m\u001b[0m\u001b[0m\n",
            "\u001b[0;31mAssertionError\u001b[0m: "
          ]
        }
      ],
      "source": [
        "yesterday = datetime.now() - timedelta(days=1)\n",
        "retriever.add_documents([Document(page_content=\"hello world\", metadata={\"last_accessed_at\": yesterday})])\n",
        "retriever.add_documents([Document(page_content=\"hello foo\")])"
      ]
    },
    {
      "cell_type": "code",
      "execution_count": 75,
      "metadata": {
        "id": "eTkJqurEkh-E",
        "colab": {
          "base_uri": "https://localhost:8080/",
          "height": 322
        },
        "outputId": "5d587885-7b5e-4342-88d8-e7d5fa7a5f43"
      },
      "outputs": [
        {
          "output_type": "error",
          "ename": "AssertionError",
          "evalue": "",
          "traceback": [
            "\u001b[0;31m---------------------------------------------------------------------------\u001b[0m",
            "\u001b[0;31mAssertionError\u001b[0m                            Traceback (most recent call last)",
            "\u001b[0;32m<ipython-input-75-b10dde1ebcd4>\u001b[0m in \u001b[0;36m<cell line: 1>\u001b[0;34m()\u001b[0m\n\u001b[0;32m----> 1\u001b[0;31m \u001b[0mretriever\u001b[0m\u001b[0;34m.\u001b[0m\u001b[0mget_relevant_documents\u001b[0m\u001b[0;34m(\u001b[0m\u001b[0;34m\"hello world\"\u001b[0m\u001b[0;34m)\u001b[0m\u001b[0;34m\u001b[0m\u001b[0;34m\u001b[0m\u001b[0m\n\u001b[0m",
            "\u001b[0;32m/usr/local/lib/python3.10/dist-packages/langchain_core/retrievers.py\u001b[0m in \u001b[0;36mget_relevant_documents\u001b[0;34m(self, query, callbacks, tags, metadata, run_name, **kwargs)\u001b[0m\n\u001b[1;32m    222\u001b[0m         \u001b[0;32mexcept\u001b[0m \u001b[0mException\u001b[0m \u001b[0;32mas\u001b[0m \u001b[0me\u001b[0m\u001b[0;34m:\u001b[0m\u001b[0;34m\u001b[0m\u001b[0;34m\u001b[0m\u001b[0m\n\u001b[1;32m    223\u001b[0m             \u001b[0mrun_manager\u001b[0m\u001b[0;34m.\u001b[0m\u001b[0mon_retriever_error\u001b[0m\u001b[0;34m(\u001b[0m\u001b[0me\u001b[0m\u001b[0;34m)\u001b[0m\u001b[0;34m\u001b[0m\u001b[0;34m\u001b[0m\u001b[0m\n\u001b[0;32m--> 224\u001b[0;31m             \u001b[0;32mraise\u001b[0m \u001b[0me\u001b[0m\u001b[0;34m\u001b[0m\u001b[0;34m\u001b[0m\u001b[0m\n\u001b[0m\u001b[1;32m    225\u001b[0m         \u001b[0;32melse\u001b[0m\u001b[0;34m:\u001b[0m\u001b[0;34m\u001b[0m\u001b[0;34m\u001b[0m\u001b[0m\n\u001b[1;32m    226\u001b[0m             run_manager.on_retriever_end(\n",
            "\u001b[0;32m/usr/local/lib/python3.10/dist-packages/langchain_core/retrievers.py\u001b[0m in \u001b[0;36mget_relevant_documents\u001b[0;34m(self, query, callbacks, tags, metadata, run_name, **kwargs)\u001b[0m\n\u001b[1;32m    215\u001b[0m             \u001b[0m_kwargs\u001b[0m \u001b[0;34m=\u001b[0m \u001b[0mkwargs\u001b[0m \u001b[0;32mif\u001b[0m \u001b[0mself\u001b[0m\u001b[0;34m.\u001b[0m\u001b[0m_expects_other_args\u001b[0m \u001b[0;32melse\u001b[0m \u001b[0;34m{\u001b[0m\u001b[0;34m}\u001b[0m\u001b[0;34m\u001b[0m\u001b[0;34m\u001b[0m\u001b[0m\n\u001b[1;32m    216\u001b[0m             \u001b[0;32mif\u001b[0m \u001b[0mself\u001b[0m\u001b[0;34m.\u001b[0m\u001b[0m_new_arg_supported\u001b[0m\u001b[0;34m:\u001b[0m\u001b[0;34m\u001b[0m\u001b[0;34m\u001b[0m\u001b[0m\n\u001b[0;32m--> 217\u001b[0;31m                 result = self._get_relevant_documents(\n\u001b[0m\u001b[1;32m    218\u001b[0m                     \u001b[0mquery\u001b[0m\u001b[0;34m,\u001b[0m \u001b[0mrun_manager\u001b[0m\u001b[0;34m=\u001b[0m\u001b[0mrun_manager\u001b[0m\u001b[0;34m,\u001b[0m \u001b[0;34m**\u001b[0m\u001b[0m_kwargs\u001b[0m\u001b[0;34m\u001b[0m\u001b[0;34m\u001b[0m\u001b[0m\n\u001b[1;32m    219\u001b[0m                 )\n",
            "\u001b[0;32m/usr/local/lib/python3.10/dist-packages/langchain/retrievers/time_weighted_retriever.py\u001b[0m in \u001b[0;36m_get_relevant_documents\u001b[0;34m(self, query, run_manager)\u001b[0m\n\u001b[1;32m    100\u001b[0m         }\n\u001b[1;32m    101\u001b[0m         \u001b[0;31m# If a doc is considered salient, update the salience score\u001b[0m\u001b[0;34m\u001b[0m\u001b[0;34m\u001b[0m\u001b[0m\n\u001b[0;32m--> 102\u001b[0;31m         \u001b[0mdocs_and_scores\u001b[0m\u001b[0;34m.\u001b[0m\u001b[0mupdate\u001b[0m\u001b[0;34m(\u001b[0m\u001b[0mself\u001b[0m\u001b[0;34m.\u001b[0m\u001b[0mget_salient_docs\u001b[0m\u001b[0;34m(\u001b[0m\u001b[0mquery\u001b[0m\u001b[0;34m)\u001b[0m\u001b[0;34m)\u001b[0m\u001b[0;34m\u001b[0m\u001b[0;34m\u001b[0m\u001b[0m\n\u001b[0m\u001b[1;32m    103\u001b[0m         rescored_docs = [\n\u001b[1;32m    104\u001b[0m             \u001b[0;34m(\u001b[0m\u001b[0mdoc\u001b[0m\u001b[0;34m,\u001b[0m \u001b[0mself\u001b[0m\u001b[0;34m.\u001b[0m\u001b[0m_get_combined_score\u001b[0m\u001b[0;34m(\u001b[0m\u001b[0mdoc\u001b[0m\u001b[0;34m,\u001b[0m \u001b[0mrelevance\u001b[0m\u001b[0;34m,\u001b[0m \u001b[0mcurrent_time\u001b[0m\u001b[0;34m)\u001b[0m\u001b[0;34m)\u001b[0m\u001b[0;34m\u001b[0m\u001b[0;34m\u001b[0m\u001b[0m\n",
            "\u001b[0;32m/usr/local/lib/python3.10/dist-packages/langchain/retrievers/time_weighted_retriever.py\u001b[0m in \u001b[0;36mget_salient_docs\u001b[0;34m(self, query)\u001b[0m\n\u001b[1;32m     79\u001b[0m         \u001b[0;34m\"\"\"Return documents that are salient to the query.\"\"\"\u001b[0m\u001b[0;34m\u001b[0m\u001b[0;34m\u001b[0m\u001b[0m\n\u001b[1;32m     80\u001b[0m         \u001b[0mdocs_and_scores\u001b[0m\u001b[0;34m:\u001b[0m \u001b[0mList\u001b[0m\u001b[0;34m[\u001b[0m\u001b[0mTuple\u001b[0m\u001b[0;34m[\u001b[0m\u001b[0mDocument\u001b[0m\u001b[0;34m,\u001b[0m \u001b[0mfloat\u001b[0m\u001b[0;34m]\u001b[0m\u001b[0;34m]\u001b[0m\u001b[0;34m\u001b[0m\u001b[0;34m\u001b[0m\u001b[0m\n\u001b[0;32m---> 81\u001b[0;31m         docs_and_scores = self.vectorstore.similarity_search_with_relevance_scores(\n\u001b[0m\u001b[1;32m     82\u001b[0m             \u001b[0mquery\u001b[0m\u001b[0;34m,\u001b[0m \u001b[0;34m**\u001b[0m\u001b[0mself\u001b[0m\u001b[0;34m.\u001b[0m\u001b[0msearch_kwargs\u001b[0m\u001b[0;34m\u001b[0m\u001b[0;34m\u001b[0m\u001b[0m\n\u001b[1;32m     83\u001b[0m         )\n",
            "\u001b[0;32m/usr/local/lib/python3.10/dist-packages/langchain_core/vectorstores.py\u001b[0m in \u001b[0;36msimilarity_search_with_relevance_scores\u001b[0;34m(self, query, k, **kwargs)\u001b[0m\n\u001b[1;32m    302\u001b[0m         \u001b[0mscore_threshold\u001b[0m \u001b[0;34m=\u001b[0m \u001b[0mkwargs\u001b[0m\u001b[0;34m.\u001b[0m\u001b[0mpop\u001b[0m\u001b[0;34m(\u001b[0m\u001b[0;34m\"score_threshold\"\u001b[0m\u001b[0;34m,\u001b[0m \u001b[0;32mNone\u001b[0m\u001b[0;34m)\u001b[0m\u001b[0;34m\u001b[0m\u001b[0;34m\u001b[0m\u001b[0m\n\u001b[1;32m    303\u001b[0m \u001b[0;34m\u001b[0m\u001b[0m\n\u001b[0;32m--> 304\u001b[0;31m         docs_and_similarities = self._similarity_search_with_relevance_scores(\n\u001b[0m\u001b[1;32m    305\u001b[0m             \u001b[0mquery\u001b[0m\u001b[0;34m,\u001b[0m \u001b[0mk\u001b[0m\u001b[0;34m=\u001b[0m\u001b[0mk\u001b[0m\u001b[0;34m,\u001b[0m \u001b[0;34m**\u001b[0m\u001b[0mkwargs\u001b[0m\u001b[0;34m\u001b[0m\u001b[0;34m\u001b[0m\u001b[0m\n\u001b[1;32m    306\u001b[0m         )\n",
            "\u001b[0;32m/usr/local/lib/python3.10/dist-packages/langchain_community/vectorstores/faiss.py\u001b[0m in \u001b[0;36m_similarity_search_with_relevance_scores\u001b[0;34m(self, query, k, filter, fetch_k, **kwargs)\u001b[0m\n\u001b[1;32m   1170\u001b[0m                 \u001b[0;34m\" FAISS constructor to normalize scores\"\u001b[0m\u001b[0;34m\u001b[0m\u001b[0;34m\u001b[0m\u001b[0m\n\u001b[1;32m   1171\u001b[0m             )\n\u001b[0;32m-> 1172\u001b[0;31m         docs_and_scores = self.similarity_search_with_score(\n\u001b[0m\u001b[1;32m   1173\u001b[0m             \u001b[0mquery\u001b[0m\u001b[0;34m,\u001b[0m\u001b[0;34m\u001b[0m\u001b[0;34m\u001b[0m\u001b[0m\n\u001b[1;32m   1174\u001b[0m             \u001b[0mk\u001b[0m\u001b[0;34m=\u001b[0m\u001b[0mk\u001b[0m\u001b[0;34m,\u001b[0m\u001b[0;34m\u001b[0m\u001b[0;34m\u001b[0m\u001b[0m\n",
            "\u001b[0;32m/usr/local/lib/python3.10/dist-packages/langchain_community/vectorstores/faiss.py\u001b[0m in \u001b[0;36msimilarity_search_with_score\u001b[0;34m(self, query, k, filter, fetch_k, **kwargs)\u001b[0m\n\u001b[1;32m    415\u001b[0m         \"\"\"\n\u001b[1;32m    416\u001b[0m         \u001b[0membedding\u001b[0m \u001b[0;34m=\u001b[0m \u001b[0mself\u001b[0m\u001b[0;34m.\u001b[0m\u001b[0m_embed_query\u001b[0m\u001b[0;34m(\u001b[0m\u001b[0mquery\u001b[0m\u001b[0;34m)\u001b[0m\u001b[0;34m\u001b[0m\u001b[0;34m\u001b[0m\u001b[0m\n\u001b[0;32m--> 417\u001b[0;31m         docs = self.similarity_search_with_score_by_vector(\n\u001b[0m\u001b[1;32m    418\u001b[0m             \u001b[0membedding\u001b[0m\u001b[0;34m,\u001b[0m\u001b[0;34m\u001b[0m\u001b[0;34m\u001b[0m\u001b[0m\n\u001b[1;32m    419\u001b[0m             \u001b[0mk\u001b[0m\u001b[0;34m,\u001b[0m\u001b[0;34m\u001b[0m\u001b[0;34m\u001b[0m\u001b[0m\n",
            "\u001b[0;32m/usr/local/lib/python3.10/dist-packages/langchain_community/vectorstores/faiss.py\u001b[0m in \u001b[0;36msimilarity_search_with_score_by_vector\u001b[0;34m(self, embedding, k, filter, fetch_k, **kwargs)\u001b[0m\n\u001b[1;32m    300\u001b[0m         \u001b[0;32mif\u001b[0m \u001b[0mself\u001b[0m\u001b[0;34m.\u001b[0m\u001b[0m_normalize_L2\u001b[0m\u001b[0;34m:\u001b[0m\u001b[0;34m\u001b[0m\u001b[0;34m\u001b[0m\u001b[0m\n\u001b[1;32m    301\u001b[0m             \u001b[0mfaiss\u001b[0m\u001b[0;34m.\u001b[0m\u001b[0mnormalize_L2\u001b[0m\u001b[0;34m(\u001b[0m\u001b[0mvector\u001b[0m\u001b[0;34m)\u001b[0m\u001b[0;34m\u001b[0m\u001b[0;34m\u001b[0m\u001b[0m\n\u001b[0;32m--> 302\u001b[0;31m         \u001b[0mscores\u001b[0m\u001b[0;34m,\u001b[0m \u001b[0mindices\u001b[0m \u001b[0;34m=\u001b[0m \u001b[0mself\u001b[0m\u001b[0;34m.\u001b[0m\u001b[0mindex\u001b[0m\u001b[0;34m.\u001b[0m\u001b[0msearch\u001b[0m\u001b[0;34m(\u001b[0m\u001b[0mvector\u001b[0m\u001b[0;34m,\u001b[0m \u001b[0mk\u001b[0m \u001b[0;32mif\u001b[0m \u001b[0mfilter\u001b[0m \u001b[0;32mis\u001b[0m \u001b[0;32mNone\u001b[0m \u001b[0;32melse\u001b[0m \u001b[0mfetch_k\u001b[0m\u001b[0;34m)\u001b[0m\u001b[0;34m\u001b[0m\u001b[0;34m\u001b[0m\u001b[0m\n\u001b[0m\u001b[1;32m    303\u001b[0m         \u001b[0mdocs\u001b[0m \u001b[0;34m=\u001b[0m \u001b[0;34m[\u001b[0m\u001b[0;34m]\u001b[0m\u001b[0;34m\u001b[0m\u001b[0;34m\u001b[0m\u001b[0m\n\u001b[1;32m    304\u001b[0m \u001b[0;34m\u001b[0m\u001b[0m\n",
            "\u001b[0;32m/usr/local/lib/python3.10/dist-packages/faiss/class_wrappers.py\u001b[0m in \u001b[0;36mreplacement_search\u001b[0;34m(self, x, k, params, D, I)\u001b[0m\n\u001b[1;32m    327\u001b[0m         \u001b[0mn\u001b[0m\u001b[0;34m,\u001b[0m \u001b[0md\u001b[0m \u001b[0;34m=\u001b[0m \u001b[0mx\u001b[0m\u001b[0;34m.\u001b[0m\u001b[0mshape\u001b[0m\u001b[0;34m\u001b[0m\u001b[0;34m\u001b[0m\u001b[0m\n\u001b[1;32m    328\u001b[0m         \u001b[0mx\u001b[0m \u001b[0;34m=\u001b[0m \u001b[0mnp\u001b[0m\u001b[0;34m.\u001b[0m\u001b[0mascontiguousarray\u001b[0m\u001b[0;34m(\u001b[0m\u001b[0mx\u001b[0m\u001b[0;34m,\u001b[0m \u001b[0mdtype\u001b[0m\u001b[0;34m=\u001b[0m\u001b[0;34m'float32'\u001b[0m\u001b[0;34m)\u001b[0m\u001b[0;34m\u001b[0m\u001b[0;34m\u001b[0m\u001b[0m\n\u001b[0;32m--> 329\u001b[0;31m         \u001b[0;32massert\u001b[0m \u001b[0md\u001b[0m \u001b[0;34m==\u001b[0m \u001b[0mself\u001b[0m\u001b[0;34m.\u001b[0m\u001b[0md\u001b[0m\u001b[0;34m\u001b[0m\u001b[0;34m\u001b[0m\u001b[0m\n\u001b[0m\u001b[1;32m    330\u001b[0m \u001b[0;34m\u001b[0m\u001b[0m\n\u001b[1;32m    331\u001b[0m         \u001b[0;32massert\u001b[0m \u001b[0mk\u001b[0m \u001b[0;34m>\u001b[0m \u001b[0;36m0\u001b[0m\u001b[0;34m\u001b[0m\u001b[0;34m\u001b[0m\u001b[0m\n",
            "\u001b[0;31mAssertionError\u001b[0m: "
          ]
        }
      ],
      "source": [
        "retriever.get_relevant_documents(\"hello world\")"
      ]
    },
    {
      "cell_type": "code",
      "source": [],
      "metadata": {
        "id": "Uol0NBkZbH5U"
      },
      "execution_count": null,
      "outputs": []
    }
  ],
  "metadata": {
    "interpreter": {
      "hash": "ac59ebe37160ed0dfa835113d9b8498d9f09ceb179beaac4002f036b9467c963"
    },
    "kernelspec": {
      "display_name": "Python 3.9.15 64-bit",
      "language": "python",
      "name": "python3"
    },
    "language_info": {
      "codemirror_mode": {
        "name": "ipython",
        "version": 3
      },
      "file_extension": ".py",
      "mimetype": "text/x-python",
      "name": "python",
      "nbconvert_exporter": "python",
      "pygments_lexer": "ipython3",
      "version": "3.11.0"
    },
    "orig_nbformat": 4,
    "colab": {
      "provenance": [],
      "include_colab_link": true
    }
  },
  "nbformat": 4,
  "nbformat_minor": 0
}